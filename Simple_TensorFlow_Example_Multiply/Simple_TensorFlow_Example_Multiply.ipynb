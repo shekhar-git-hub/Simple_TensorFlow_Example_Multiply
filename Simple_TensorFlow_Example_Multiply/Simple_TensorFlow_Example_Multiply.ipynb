{
  "nbformat": 4,
  "nbformat_minor": 0,
  "metadata": {
    "colab": {
      "name": "Simple TensorFlow Example Multiply.ipynb",
      "provenance": [],
      "toc_visible": true
    },
    "kernelspec": {
      "name": "python3",
      "display_name": "Python 3"
    },
    "language_info": {
      "name": "python"
    }
  },
  "cells": [
    {
      "cell_type": "markdown",
      "metadata": {
        "id": "u9tfpPAHi9vV"
      },
      "source": [
        "# Simple TensorFlow Example Multiply"
      ]
    },
    {
      "cell_type": "code",
      "metadata": {
        "id": "4VJcTkgTg4tl"
      },
      "source": [
        "!pip install numpy\n",
        "!pip install tensorflow "
      ],
      "execution_count": null,
      "outputs": []
    },
    {
      "cell_type": "code",
      "metadata": {
        "id": "nT5ijXsghVF5"
      },
      "source": [
        "import numpy as np\n",
        "import tensorflow.compat.v1 as tf\n",
        "tf.disable_v2_behavior()"
      ],
      "execution_count": null,
      "outputs": []
    },
    {
      "cell_type": "markdown",
      "metadata": {
        "id": "lTyUaS2riNkp"
      },
      "source": [
        "Step1: Define the variable"
      ]
    },
    {
      "cell_type": "code",
      "metadata": {
        "id": "S-2wZ1Vthyr9"
      },
      "source": [
        "X_1 = tf.placeholder(tf.float32, name = \"X_1\")\n",
        "X_2 = tf.placeholder(tf.float32, name = \"X_2\")"
      ],
      "execution_count": 20,
      "outputs": []
    },
    {
      "cell_type": "markdown",
      "metadata": {
        "id": "OHo0ZVDAiImd"
      },
      "source": [
        "Step2: Define the computation"
      ]
    },
    {
      "cell_type": "code",
      "metadata": {
        "id": "D9Fygd8bkJ5Y"
      },
      "source": [
        "multiply = tf.multiply(X_1, X_2, name= \"multiply\")"
      ],
      "execution_count": 21,
      "outputs": []
    },
    {
      "cell_type": "markdown",
      "metadata": {
        "id": "OUvePywvkhOW"
      },
      "source": [
        "Step3: Execute the operation"
      ]
    },
    {
      "cell_type": "code",
      "metadata": {
        "colab": {
          "base_uri": "https://localhost:8080/"
        },
        "id": "21PPGj9nkldw",
        "outputId": "aa615863-34c5-463b-bdd3-18cdef4a4a5a"
      },
      "source": [
        "X_1 = tf.placeholder(tf.float32, name = \"X_1\")\n",
        "X_2 = tf.placeholder(tf.float32, name = \"X_2\")\n",
        "\n",
        "multiply = tf.multiply(X_1, X_2, name = \"multiply\")\n",
        "\n",
        "with tf.Session() as session:\n",
        "  result = session.run(multiply, feed_dict = {X_1:[1,2,3], X_2:[4,5,6]})\n",
        "  print(result)"
      ],
      "execution_count": 19,
      "outputs": [
        {
          "output_type": "stream",
          "name": "stdout",
          "text": [
            "[ 4. 10. 18.]\n"
          ]
        }
      ]
    }
  ]
}